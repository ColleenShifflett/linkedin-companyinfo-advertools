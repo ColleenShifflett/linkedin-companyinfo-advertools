{
 "cells": [
  {
   "cell_type": "code",
   "execution_count": null,
   "metadata": {},
   "outputs": [],
   "source": [
    "import advertools as adv\n",
    "import pandas as pd\n",
    "from pandas import *\n",
    "\n",
    "# reading csv file that was downloaded\n",
    "data = read_csv(\"companies.csv\")\n",
    " \n",
    "# converting column data to list\n",
    "queries = data['Query'].tolist()\n",
    "\n",
    "# create a dataframe that returns the top search result for each query: link and description\n",
    "api_key, cse_id = \"XXXXXXXXXXXXXXXXXXXXXXXXXXXXXX\", \"XXXXXXXXXXXXXXX\"\n",
    "df1 = adv.serp_goog(key=api_key, cx=cse_id, q=queries, gl=[\"us\"], num=1)[[\"link\", \"og:description\"]]\n",
    "\n",
    "#print dataframe\n",
    "df1"
   ]
  },
  {
   "cell_type": "code",
   "execution_count": 24,
   "metadata": {},
   "outputs": [],
   "source": [
    "# to download this into a CSV\n",
    "df1.to_csv('linkedin_company_report.csv')"
   ]
  },
  {
   "cell_type": "code",
   "execution_count": null,
   "metadata": {},
   "outputs": [],
   "source": [
    "# to add the data to a Google Sheet\n",
    "import pygsheets\n",
    "import pandas as pd\n",
    "#authorization\n",
    "gc = pygsheets.authorize(service_file='filename.json')\n",
    "\n",
    "\n",
    "#open the google spreadsheet (where 'Sample' is the name of my sheet)\n",
    "sh = gc.open('Sample')\n",
    "\n",
    "#select the first sheet \n",
    "wks = sh[0]\n",
    "\n",
    "#update the first sheet with df, starting specified cell. You will need to change this cell.\n",
    "wks.set_dataframe(df1,(0,2))"
   ]
  }
 ],
 "metadata": {
  "kernelspec": {
   "display_name": "Python 3",
   "language": "python",
   "name": "python3"
  },
  "language_info": {
   "codemirror_mode": {
    "name": "ipython",
    "version": 3
   },
   "file_extension": ".py",
   "mimetype": "text/x-python",
   "name": "python",
   "nbconvert_exporter": "python",
   "pygments_lexer": "ipython3",
   "version": "3.6.7"
  }
 },
 "nbformat": 4,
 "nbformat_minor": 2
}
